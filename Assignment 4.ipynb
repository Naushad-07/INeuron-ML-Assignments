{
 "cells": [
  {
   "cell_type": "markdown",
   "metadata": {},
   "source": [
    "# ASSIGNMENT 4"
   ]
  },
  {
   "cell_type": "markdown",
   "metadata": {},
   "source": [
    "### 1.1 Write a Python Program(with class concepts) to find the area of the triangle using the below formula. \n",
    "\n",
    "area = (s*(s-a)*(s-b)*(s-c)) ** 0.5 \n",
    "\n",
    "Function to take the length of the sides of triangle from user should be defined in the parent class and function to calculate the area should be defined in subclass. \n"
   ]
  },
  {
   "cell_type": "code",
   "execution_count": 16,
   "metadata": {},
   "outputs": [
    {
     "name": "stdout",
     "output_type": "stream",
     "text": [
      "enter the length of first side of Triangle:3\n",
      "enter the length of second side of Triangle:4\n",
      "enter the length of third side of Triangle:5\n",
      "6.0 is the area for the Triangle\n"
     ]
    }
   ],
   "source": [
    "class Triangle:\n",
    "    def __init__(self,a,b,c,):\n",
    "        self.first_side=a\n",
    "        self.second_side=b\n",
    "        self.third_side=c\n",
    "    def area(self):\n",
    "        s=(self.first_side+self.second_side+self.third_side)/2\n",
    "        return (s*(s-self.first_side)*(s-self.second_side)*(s-self.third_side))**0.5\n",
    "\n",
    "x=int(input('Enter the length of first side of Triangle:'))\n",
    "y=int(input('Enter the length of second side of Triangle:'))\n",
    "z=int(input('Enter the length of third side of Triangle:'))\n",
    "My_Triangle=Triangle(x,y,z)\n",
    "\n",
    "print(My_Triangle.area(), 'is the area for the Triangle')"
   ]
  },
  {
   "cell_type": "markdown",
   "metadata": {},
   "source": [
    "### 1.2 Write a function filter_long_words() that takes a list of words and an integer n and returns the list of words that are longer than n."
   ]
  },
  {
   "cell_type": "code",
   "execution_count": 20,
   "metadata": {},
   "outputs": [
    {
     "data": {
      "text/plain": [
       "['Apple', 'Cycle']"
      ]
     },
     "execution_count": 20,
     "metadata": {},
     "output_type": "execute_result"
    }
   ],
   "source": [
    "def filter_long_words(list,n):\n",
    "    c = []\n",
    "    for i in list:\n",
    "        if len(i) > n:\n",
    "            c.append(i)\n",
    "    return c\n",
    "\n",
    "A=['Apple','Car','Bus','Bike','Cycle','Lays']\n",
    "\n",
    "filter_long_words(A,4)"
   ]
  },
  {
   "cell_type": "markdown",
   "metadata": {},
   "source": [
    "### 2.1 Write a Python program using function concept that maps list of words into a list of integers representing the lengths of the corresponding words. \n",
    "\n",
    "Hint: If a list [ ab,cde,erty] is passed on to the python function output should come as [2,3,4] "
   ]
  },
  {
   "cell_type": "code",
   "execution_count": 43,
   "metadata": {},
   "outputs": [
    {
     "data": {
      "text/plain": [
       "[5, 4, 3, 3]"
      ]
     },
     "execution_count": 43,
     "metadata": {},
     "output_type": "execute_result"
    }
   ],
   "source": [
    "def word_to_int(L):\n",
    "    C = []\n",
    "    for i in L:\n",
    "        C.append(len(i))\n",
    "        \n",
    "    return C\n",
    "\n",
    "List = ['apple','ball','cat','dog']\n",
    "\n",
    "word_to_int(List)"
   ]
  },
  {
   "cell_type": "markdown",
   "metadata": {},
   "source": [
    "### 2.2 Write a Python function which takes a character (i.e. a string of length 1) and returns True if it is a vowel, False otherwise. "
   ]
  },
  {
   "cell_type": "code",
   "execution_count": 53,
   "metadata": {},
   "outputs": [
    {
     "data": {
      "text/plain": [
       "False"
      ]
     },
     "execution_count": 53,
     "metadata": {},
     "output_type": "execute_result"
    }
   ],
   "source": [
    "def is_vowel(x):\n",
    "    List = ['a','e','i','o','u']\n",
    "    a =  False\n",
    "    for i in List:\n",
    "        if x == i:\n",
    "            a = True\n",
    "    return a\n",
    "            \n",
    "is_vowel('v')"
   ]
  }
 ],
 "metadata": {
  "kernelspec": {
   "display_name": "Python 3",
   "language": "python",
   "name": "python3"
  },
  "language_info": {
   "codemirror_mode": {
    "name": "ipython",
    "version": 3
   },
   "file_extension": ".py",
   "mimetype": "text/x-python",
   "name": "python",
   "nbconvert_exporter": "python",
   "pygments_lexer": "ipython3",
   "version": "3.6.5"
  }
 },
 "nbformat": 4,
 "nbformat_minor": 2
}
